{
 "cells": [
  {
   "attachments": {},
   "cell_type": "markdown",
   "id": "3563b280",
   "metadata": {},
   "source": [
    "# Introdução ao pré-processamento de dados"
   ]
  },
  {
   "attachments": {},
   "cell_type": "markdown",
   "id": "563a96f8",
   "metadata": {},
   "source": [
    "É necessário pré-processar os dados par viabilizar a criação da rede, tratando os dados da melhor maneira para se utilizar a ML.\n",
    "Casos como os dados inexistentes, dados que fogem aos padrões do usuário podem inviezar o modelo de ML."
   ]
  },
  {
   "cell_type": "code",
   "execution_count": 1,
   "id": "3e01ee57",
   "metadata": {},
   "outputs": [],
   "source": [
    "import pandas as pd #Importar a biblioteca pandas"
   ]
  },
  {
   "cell_type": "code",
   "execution_count": 1,
   "id": "feaa2a09",
   "metadata": {},
   "outputs": [
    {
     "ename": "NameError",
     "evalue": "name 'pd' is not defined",
     "output_type": "error",
     "traceback": [
      "\u001b[1;31m---------------------------------------------------------------------------\u001b[0m",
      "\u001b[1;31mNameError\u001b[0m                                 Traceback (most recent call last)",
      "Cell \u001b[1;32mIn[1], line 2\u001b[0m\n\u001b[0;32m      1\u001b[0m \u001b[39m#Método para ler o banco de dados com algumas cores faltantes\u001b[39;00m\n\u001b[1;32m----> 2\u001b[0m data \u001b[39m=\u001b[39m pd\u001b[39m.\u001b[39mread_table(\u001b[39m'\u001b[39m\u001b[39mfruit_data_with_colors_miss.txt\u001b[39m\u001b[39m'\u001b[39m)\n",
      "\u001b[1;31mNameError\u001b[0m: name 'pd' is not defined"
     ]
    }
   ],
   "source": [
    "#Método para ler o banco de dados com algumas cores faltantes\n",
    "data = pd.read_table('fruit_data_with_colors_miss.txt')"
   ]
  },
  {
   "cell_type": "code",
   "execution_count": null,
   "id": "6ee196fa",
   "metadata": {},
   "outputs": [],
   "source": [
    "data #apresentar o conjunto de dados"
   ]
  },
  {
   "attachments": {},
   "cell_type": "markdown",
   "id": "ba375c49",
   "metadata": {},
   "source": [
    "## Imputando valores faltantes"
   ]
  },
  {
   "attachments": {},
   "cell_type": "markdown",
   "id": "ccea179e",
   "metadata": {},
   "source": [
    "Os valores faltantes na base dados pode gerar problemas na criação da rede, já que alguns dados não são preechidos de forma satisfatória, causando problema para a ML. O parâmetro *na_values* indica quais os dados faltantes da base de dados."
   ]
  },
  {
   "cell_type": "code",
   "execution_count": null,
   "id": "2428d54e",
   "metadata": {},
   "outputs": [],
   "source": [
    "data = pd.read_table('fruit_data_with_colors_miss.txt',na_values = ['.','?'])"
   ]
  },
  {
   "cell_type": "code",
   "execution_count": null,
   "id": "4cc64acc",
   "metadata": {},
   "outputs": [],
   "source": [
    "data #Onde havia valores faltantes é substituido por NaN"
   ]
  },
  {
   "attachments": {},
   "cell_type": "markdown",
   "id": "3a8536d0",
   "metadata": {},
   "source": [
    "Para imputar dados na base basta utilizar o comando *data.fillna(0)* que injeta/complete os não disponíveis com o valor 0, ou seja, os valores NaN são sunstituidos pelo paraparâmetro passado no método."
   ]
  },
  {
   "cell_type": "code",
   "execution_count": null,
   "id": "aa49e672",
   "metadata": {},
   "outputs": [],
   "source": [
    "data.fillna(0) #Após isso é subsitituido por 0"
   ]
  },
  {
   "cell_type": "code",
   "execution_count": null,
   "id": "b631fe63",
   "metadata": {},
   "outputs": [],
   "source": [
    "#Substitui pela a média de cada colula os valores faltantes NaN. O python identifica a média independende de cada coluna\n",
    "data = data.fillna(data.mean()) "
   ]
  },
  {
   "attachments": {},
   "cell_type": "markdown",
   "id": "5a7ab248",
   "metadata": {},
   "source": [
    "Para os dados não numéricos a imputação dos dados ocorre utilizando o comando *data['fruit_subtype'].value_counts().argmax()*. Nele é contado os valores que se repete na coluna por meio do método *value_counts* e retorna o que se repete mais por meio do método *argmax()*.\n"
   ]
  },
  {
   "cell_type": "code",
   "execution_count": null,
   "id": "b4f99b87",
   "metadata": {},
   "outputs": [],
   "source": [
    "data['fruit_subtype'] = data['fruit_subtype'].fillna(data['fruit_subtype'].value_counts().argmax())"
   ]
  },
  {
   "attachments": {},
   "cell_type": "markdown",
   "id": "62b8bf9c",
   "metadata": {},
   "source": [
    "## Eliminando colunas"
   ]
  },
  {
   "attachments": {},
   "cell_type": "markdown",
   "id": "764350e4",
   "metadata": {},
   "source": [
    "Para muitos dados faltantes em uma coluna ou quando se deseja desconsiderar um volume de dados presentes na coluna é possível apagar uma coluna."
   ]
  },
  {
   "cell_type": "code",
   "execution_count": null,
   "id": "80321974",
   "metadata": {},
   "outputs": [],
   "source": [
    "data = pd.read_table('fruit_data_with_colors_miss.txt',na_values = ['.','?'])"
   ]
  },
  {
   "cell_type": "code",
   "execution_count": null,
   "id": "2a7d54b5",
   "metadata": {},
   "outputs": [],
   "source": [
    "data"
   ]
  },
  {
   "cell_type": "code",
   "execution_count": null,
   "id": "4b8f019d",
   "metadata": {},
   "outputs": [],
   "source": [
    "#Total de dados nas linhas\n",
    "data.shape[0]"
   ]
  },
  {
   "cell_type": "code",
   "execution_count": null,
   "id": "0384ea31",
   "metadata": {},
   "outputs": [],
   "source": [
    "#Total de dados faltantes (NaN) por colunas\n",
    "data.isnull().sum()"
   ]
  },
  {
   "attachments": {},
   "cell_type": "markdown",
   "id": "00cc3528",
   "metadata": {},
   "source": [
    "Se a percentagem dos dados faltantes for superior a 25% é necessário eliminar a coluna, caso contrário é possivel utilizar a técnica de imputar valores. Existe a mesma abordagem só que com a porcentagem de 10%."
   ]
  },
  {
   "cell_type": "code",
   "execution_count": null,
   "id": "f7c4e769",
   "metadata": {},
   "outputs": [],
   "source": [
    "#Porcentagem de dados faltantes por colunas\n",
    "(data.isnull().sum()/data.shape) * 100"
   ]
  },
  {
   "attachments": {},
   "cell_type": "markdown",
   "id": "0a87b80f",
   "metadata": {},
   "source": [
    "Apagar as colunas com muitos dados faltantes e manter as colunas que serão usadas. Nesse caso, foi retirado uma coluna a titulo de exemplo."
   ]
  },
  {
   "cell_type": "code",
   "execution_count": null,
   "id": "a14150fc",
   "metadata": {},
   "outputs": [],
   "source": [
    "data = data[['fruit_label','fruit_name','fruit_subtype','width','heigth','color_score']]"
   ]
  },
  {
   "attachments": {},
   "cell_type": "markdown",
   "id": "92d0879e",
   "metadata": {},
   "source": [
    "## Transformando a escala dos dados\n",
    "**Normalizar os dados**"
   ]
  },
  {
   "attachments": {},
   "cell_type": "markdown",
   "id": "123062e7",
   "metadata": {},
   "source": [
    "Quando os dados possuiem ordem de grandezas/escalas diferente, ou seja, possui um rand muito grande nos seus valores podem levar o algoritmo a resultados erronios."
   ]
  },
  {
   "cell_type": "code",
   "execution_count": null,
   "id": "566cfd84",
   "metadata": {},
   "outputs": [],
   "source": [
    "data = pd.read_table('fruit_data_with_colors_miss.txt',na_values = ['.','?'])\n",
    "data = data.fillna(data.mean()) \n",
    "data = data[['mass','width','heigth','color_score']]"
   ]
  },
  {
   "cell_type": "code",
   "execution_count": null,
   "id": "6ab2e63e",
   "metadata": {},
   "outputs": [],
   "source": [
    "data.describe()"
   ]
  },
  {
   "attachments": {},
   "cell_type": "markdown",
   "id": "33b44ee5",
   "metadata": {},
   "source": [
    "A técnica, para cada coluna é capurado o valor - mínimo da coluna dividido a diferença do valor máximo e mínimo da coluna.\n",
    "\n",
    "            (valor - min) / (max - min)\n",
    "            \n",
    "Para tanto, é aplicado uma função do sklearn chamada de MinMaxScaler, que é uma classe que efetua a ttransformação dos dados."
   ]
  },
  {
   "cell_type": "code",
   "execution_count": 2,
   "id": "f3edf398",
   "metadata": {},
   "outputs": [],
   "source": [
    "from sklearn.preprocessing import MinMaxScaler"
   ]
  },
  {
   "cell_type": "code",
   "execution_count": 3,
   "id": "bdd57b8b",
   "metadata": {},
   "outputs": [],
   "source": [
    "#Variável que armazenara o objeto MinMaxScalar\n",
    "mm = MinMaxScaler()"
   ]
  },
  {
   "attachments": {},
   "cell_type": "markdown",
   "id": "b51bbc6b",
   "metadata": {},
   "source": [
    "Função *Fit* bastante utilizada que irá construir para cada coluna do conjuto de dados o máximo e o mínimo do conjuto de dados. Por fim, é transformado os dados de acordo com os maximos e minimos usando a função *transform()*, transformando os dados em uma mesma escala."
   ]
  },
  {
   "cell_type": "code",
   "execution_count": null,
   "id": "35bfb704",
   "metadata": {},
   "outputs": [],
   "source": [
    "mm.fit(data)"
   ]
  },
  {
   "cell_type": "code",
   "execution_count": null,
   "id": "26d5b967",
   "metadata": {},
   "outputs": [],
   "source": [
    "data_escala = mm.transform(data)"
   ]
  },
  {
   "attachments": {},
   "cell_type": "markdown",
   "id": "c75ee220",
   "metadata": {},
   "source": [
    "## Encontrando Outliers"
   ]
  },
  {
   "attachments": {},
   "cell_type": "markdown",
   "id": "95d0e554",
   "metadata": {},
   "source": [
    "Nome dado a elementos que estão fora dos padões do conjuto de dados da base de dados e que tormam-se prejudiciais aos algoritmos de aprendizado de máquina."
   ]
  },
  {
   "cell_type": "code",
   "execution_count": null,
   "id": "95a5915f",
   "metadata": {},
   "outputs": [],
   "source": [
    "data = pd.read_table('fruit_data_with_colors_miss.txt',na_values = ['.','?'])\n",
    "data = data.fillna(data.mean()) "
   ]
  },
  {
   "cell_type": "code",
   "execution_count": null,
   "id": "902e8f6d",
   "metadata": {},
   "outputs": [],
   "source": [
    "#Pega apenas as maças que é um subtipo dos dados da base\n",
    "macas = data[data['fruit_name'] == 'apple']"
   ]
  },
  {
   "cell_type": "code",
   "execution_count": null,
   "id": "f96a67cc",
   "metadata": {},
   "outputs": [],
   "source": [
    "#Pega as estatisticas das maçãs armazenadas\n",
    "est = macas['mass'].describe()"
   ]
  },
  {
   "attachments": {},
   "cell_type": "markdown",
   "id": "ef9910a0",
   "metadata": {},
   "source": [
    "Pega as maçãs com massa maior que a média do total de maças, mais duas vez o desvio padrão das maçãs, essas maçãs devem ser vistas como Outliers."
   ]
  },
  {
   "cell_type": "code",
   "execution_count": null,
   "id": "516af424",
   "metadata": {},
   "outputs": [],
   "source": [
    "#Outliers maior\n",
    "macas[(macas['mass'] > est['mean'] + (est['std']) * 2)]"
   ]
  },
  {
   "cell_type": "code",
   "execution_count": null,
   "id": "89ab01c4",
   "metadata": {},
   "outputs": [],
   "source": [
    "#Outliers menor\n",
    "macas[(macas['mass'] < est['mean'] - (est['std']) * 2)]"
   ]
  }
 ],
 "metadata": {
  "kernelspec": {
   "display_name": "ambiente",
   "language": "python",
   "name": "python3"
  },
  "language_info": {
   "codemirror_mode": {
    "name": "ipython",
    "version": 3
   },
   "file_extension": ".py",
   "mimetype": "text/x-python",
   "name": "python",
   "nbconvert_exporter": "python",
   "pygments_lexer": "ipython3",
   "version": "3.9.15"
  },
  "vscode": {
   "interpreter": {
    "hash": "a8a96d336aa61fc63de487414a9c7e1efb8cdc0e8ce2ffe1d9b942901e306453"
   }
  }
 },
 "nbformat": 4,
 "nbformat_minor": 5
}
