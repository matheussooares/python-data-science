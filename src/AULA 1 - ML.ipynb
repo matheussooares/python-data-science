{
 "cells": [
  {
   "cell_type": "markdown",
   "id": "875e2e3f",
   "metadata": {},
   "source": [
    "# Biblioteca pandas"
   ]
  },
  {
   "cell_type": "code",
   "execution_count": 10,
   "id": "598cbe5e",
   "metadata": {},
   "outputs": [],
   "source": [
    "import pandas as pd"
   ]
  },
  {
   "cell_type": "markdown",
   "id": "63a0eb79",
   "metadata": {},
   "source": [
    "**Método de leitura de um arquivo em forma de tabela**\n",
    "\"pd.read_table('fruit_with_colors.txt')\"\n",
    "o separador é dado por \"sep ='\\t'\", o conjuto de dados está sendo separado por tabulações, ou seja,a indicação de linha e coluna para outra é dados por tabulações"
   ]
  },
  {
   "cell_type": "code",
   "execution_count": 2,
   "id": "8ebd723f",
   "metadata": {},
   "outputs": [
    {
     "ename": "NameError",
     "evalue": "name 'pd' is not defined",
     "output_type": "error",
     "traceback": [
      "\u001b[1;31m---------------------------------------------------------------------------\u001b[0m",
      "\u001b[1;31mNameError\u001b[0m                                 Traceback (most recent call last)",
      "Cell \u001b[1;32mIn[2], line 1\u001b[0m\n\u001b[1;32m----> 1\u001b[0m frutas \u001b[39m=\u001b[39m pd\u001b[39m.\u001b[39mread_table(\u001b[39m'\u001b[39m\u001b[39mdados.txt\u001b[39m\u001b[39m'\u001b[39m)\n",
      "\u001b[1;31mNameError\u001b[0m: name 'pd' is not defined"
     ]
    }
   ],
   "source": [
    "frutas = pd.read_table('dados.txt')"
   ]
  },
  {
   "cell_type": "code",
   "execution_count": 12,
   "id": "2eafaba3",
   "metadata": {},
   "outputs": [],
   "source": [
    "frutas"
   ]
  },
  {
   "cell_type": "markdown",
   "id": "2ce28638",
   "metadata": {},
   "source": [
    "**Método para retornar o tamanho da tabela**"
   ]
  },
  {
   "cell_type": "code",
   "execution_count": 13,
   "id": "a6acd35c",
   "metadata": {},
   "outputs": [],
   "source": [
    "frutas.shape"
   ]
  },
  {
   "cell_type": "markdown",
   "id": "8f356dcb",
   "metadata": {},
   "source": [
    "**Método para pegar as 5 primeiras linhas do conjunto de dados**"
   ]
  },
  {
   "cell_type": "code",
   "execution_count": 14,
   "id": "f23ac828",
   "metadata": {
    "scrolled": true
   },
   "outputs": [],
   "source": [
    "frutas.head(5)"
   ]
  },
  {
   "cell_type": "markdown",
   "id": "c29f5644",
   "metadata": {},
   "source": [
    "# **Método para análise estátistica dos dados**\n",
    "A novo tabela descreve um subconjunto das colunas com uma série de parâmetros estatísticos. \n",
    "count (soma dos valores), mean (média), std (desvio padrão), min (menor valor), 25% 50% 75% (quartis) e max (maior valor)"
   ]
  },
  {
   "cell_type": "code",
   "execution_count": 15,
   "id": "126159ed",
   "metadata": {},
   "outputs": [],
   "source": [
    "frutas.describe()"
   ]
  },
  {
   "cell_type": "markdown",
   "id": "b1a90e4d",
   "metadata": {},
   "source": [
    "## Pegar apenas algum parâmetro estatístico"
   ]
  },
  {
   "cell_type": "code",
   "execution_count": null,
   "id": "7300cd5a",
   "metadata": {},
   "outputs": [],
   "source": [
    "frutas.describe()['mass']"
   ]
  },
  {
   "cell_type": "markdown",
   "id": "9a989865",
   "metadata": {},
   "source": [
    "Massa da fruta com o menor valor"
   ]
  },
  {
   "cell_type": "code",
   "execution_count": null,
   "id": "2b97cdc1",
   "metadata": {},
   "outputs": [],
   "source": [
    "frutas.describe()['mass']['min']"
   ]
  },
  {
   "cell_type": "markdown",
   "id": "250290fd",
   "metadata": {},
   "source": [
    "# Atributos\n",
    "fruit_label: representa uma classificação dos tipos de frutas (laranja, maça, limão, tangerina)\n",
    "mass: massa da fruta\n",
    "width: comprimento\n",
    "heigth: Altura\n",
    "color_score: valor referente a intensidade da cor que varia de 0 a 1\n"
   ]
  },
  {
   "cell_type": "code",
   "execution_count": null,
   "id": "9ecfbe98",
   "metadata": {},
   "outputs": [],
   "source": [
    "frutas['mass'] #pega conjuto de atributos"
   ]
  },
  {
   "cell_type": "code",
   "execution_count": null,
   "id": "0cb7d5fd",
   "metadata": {},
   "outputs": [],
   "source": [
    "frutas[['mass','color_score']] #pega um conjunto de atributos"
   ]
  },
  {
   "cell_type": "code",
   "execution_count": null,
   "id": "9f69ce2c",
   "metadata": {},
   "outputs": [],
   "source": [
    "frutas[10:15] #pega um conjunto de linhas"
   ]
  },
  {
   "cell_type": "code",
   "execution_count": null,
   "id": "74b119ca",
   "metadata": {},
   "outputs": [],
   "source": [
    "frutas[['mass','color_score']][0:15] #Pega o conjunto de atributos entre o intervalo 0 a 14"
   ]
  },
  {
   "cell_type": "markdown",
   "id": "7d076e86",
   "metadata": {},
   "source": [
    "# Análise e visualização de um conjunto de dados"
   ]
  },
  {
   "cell_type": "markdown",
   "id": "da0a3c60",
   "metadata": {},
   "source": [
    "Verificar o balanciamento dos dados, se as categorias dos dados são balanciados."
   ]
  },
  {
   "cell_type": "code",
   "execution_count": 7,
   "id": "a3619f93",
   "metadata": {},
   "outputs": [
    {
     "name": "stderr",
     "output_type": "stream",
     "text": [
      "Matplotlib is building the font cache; this may take a moment.\n"
     ]
    }
   ],
   "source": [
    "import matplotlib.pyplot as plt"
   ]
  },
  {
   "cell_type": "markdown",
   "id": "8cd17424",
   "metadata": {},
   "source": [
    "Faz uma leitura e contagem dos dados de acordo com seus nomes da coluna fruit_name"
   ]
  },
  {
   "cell_type": "code",
   "execution_count": null,
   "id": "788a1695",
   "metadata": {},
   "outputs": [],
   "source": [
    "freq = frutas['fruit_name'].value_counts()"
   ]
  },
  {
   "cell_type": "markdown",
   "id": "98647cd9",
   "metadata": {},
   "source": [
    "Usando a variavel de contagem freq é plotado um gráfico com parâmetros kind = 'bar', um tipo de gráfico de barros. Por fim, é exibido o gráfico da frequência"
   ]
  },
  {
   "cell_type": "code",
   "execution_count": null,
   "id": "75c844a0",
   "metadata": {},
   "outputs": [],
   "source": [
    "freq.plot(kind = 'bar')\n",
    "plt.show()"
   ]
  },
  {
   "cell_type": "markdown",
   "id": "6b54e011",
   "metadata": {},
   "source": [
    "Informa quais linhas possuem apenas as maças"
   ]
  },
  {
   "cell_type": "code",
   "execution_count": null,
   "id": "77b54530",
   "metadata": {},
   "outputs": [],
   "source": [
    "macas = frutas['fruit_name'] == 'apple'"
   ]
  },
  {
   "cell_type": "code",
   "execution_count": null,
   "id": "2437fad6",
   "metadata": {},
   "outputs": [],
   "source": [
    "frutas[macas]"
   ]
  },
  {
   "cell_type": "markdown",
   "id": "23c43223",
   "metadata": {},
   "source": [
    "Pegar frutas do tipo maçã com peso superior a 175"
   ]
  },
  {
   "cell_type": "code",
   "execution_count": null,
   "id": "125c3ab4",
   "metadata": {},
   "outputs": [],
   "source": [
    "pesadas = frutas['mass'] > 175"
   ]
  },
  {
   "cell_type": "code",
   "execution_count": null,
   "id": "8a800207",
   "metadata": {},
   "outputs": [],
   "source": [
    "frutas[macas & pesadas ]"
   ]
  },
  {
   "cell_type": "markdown",
   "id": "d8d48254",
   "metadata": {},
   "source": [
    "frutas "
   ]
  },
  {
   "cell_type": "code",
   "execution_count": null,
   "id": "4aec1e13",
   "metadata": {},
   "outputs": [],
   "source": [
    "X1 = frutas[macas & pesadas]['width'] #pega comprimento\n",
    "X2 = frutas[macas & pesadas]['heigth'] #pega altura"
   ]
  },
  {
   "cell_type": "markdown",
   "id": "5ded645b",
   "metadata": {},
   "source": [
    "**Gráfico de dispersão**\n",
    "\n",
    "Eixo horizontal representa a largura das maçãs\n",
    "\n",
    "Eixo vertical representa a altura das maçãs "
   ]
  },
  {
   "cell_type": "code",
   "execution_count": null,
   "id": "2fc0a8d2",
   "metadata": {},
   "outputs": [],
   "source": [
    "plt.scatter(X1,X2)\n",
    "plt.xlabel('Comprimento')#rotulos que iram aparecer \n",
    "plt.ylabel('Altura')\n",
    "plt.show()"
   ]
  },
  {
   "cell_type": "markdown",
   "id": "642b67a8",
   "metadata": {},
   "source": [
    "Grafico de dispersão do comprimento e altura"
   ]
  },
  {
   "cell_type": "code",
   "execution_count": null,
   "id": "88814b24",
   "metadata": {},
   "outputs": [],
   "source": [
    "X1 = frutas['width']\n",
    "X2 = ['heigth']"
   ]
  },
  {
   "cell_type": "code",
   "execution_count": null,
   "id": "d43116f1",
   "metadata": {},
   "outputs": [],
   "source": [
    "plt.scatter(X1,X2)\n",
    "plt.xlabel('Comprimento')#rotulos que iram aparecer \n",
    "plt.ylabel('Altura')\n",
    "plt.show()"
   ]
  },
  {
   "cell_type": "markdown",
   "id": "ff38d62a",
   "metadata": {},
   "source": [
    "Adicionar cores em cada rótulo "
   ]
  },
  {
   "cell_type": "code",
   "execution_count": null,
   "id": "0a47153d",
   "metadata": {},
   "outputs": [],
   "source": [
    "y = frutas['fruit_label'] #rotulos de cada uma das frutas"
   ]
  },
  {
   "cell_type": "code",
   "execution_count": null,
   "id": "e30f5433",
   "metadata": {},
   "outputs": [],
   "source": [
    "plt.scatter(X1,X2, c = y)\n",
    "plt.xlabel('Comprimento')#rotulos que iram aparecer \n",
    "plt.ylabel('Altura')\n",
    "plt.show()"
   ]
  }
 ],
 "metadata": {
  "kernelspec": {
   "display_name": "ambiente",
   "language": "python",
   "name": "python3"
  },
  "language_info": {
   "codemirror_mode": {
    "name": "ipython",
    "version": 3
   },
   "file_extension": ".py",
   "mimetype": "text/x-python",
   "name": "python",
   "nbconvert_exporter": "python",
   "pygments_lexer": "ipython3",
   "version": "3.9.15"
  },
  "vscode": {
   "interpreter": {
    "hash": "a8a96d336aa61fc63de487414a9c7e1efb8cdc0e8ce2ffe1d9b942901e306453"
   }
  }
 },
 "nbformat": 4,
 "nbformat_minor": 5
}
